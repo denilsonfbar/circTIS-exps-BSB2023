{
 "cells": [
  {
   "cell_type": "code",
   "execution_count": 4,
   "metadata": {},
   "outputs": [],
   "source": [
    "import pandas as pd\n",
    "import libcirctis\n",
    "\n",
    "n_folds = 5\n",
    "\n",
    "# Inputs\n",
    "input_path = 'datasets/cross_validation/fold_'"
   ]
  },
  {
   "cell_type": "code",
   "execution_count": 9,
   "metadata": {},
   "outputs": [],
   "source": [
    "def split_info(seqs_file, samples_file):\n",
    "\n",
    "    print('\\n' + str(libcirctis.count_sequences_in_fasta_file(seqs_file)))\n",
    "\n",
    "    df_samples = pd.read_csv(samples_file, sep='\\t', header=0)\n",
    "    # print(df_samples.shape[0])\n",
    "\n",
    "    df_atg = df_samples[df_samples['TIS_type'] == 'ATG']\n",
    "    print(df_atg[df_atg['sample_label'] == 1].shape[0])\n",
    "    print(df_atg[df_atg['sample_label'] == -1].shape[0])\n",
    "\n",
    "    df_nc = df_samples[df_samples['TIS_type'] != 'ATG']\n",
    "    print(df_nc[df_nc['sample_label'] == 1].shape[0])\n",
    "    print(df_nc[df_nc['sample_label'] == -1].shape[0])\n",
    "\n"
   ]
  },
  {
   "cell_type": "code",
   "execution_count": 10,
   "metadata": {},
   "outputs": [
    {
     "name": "stdout",
     "output_type": "stream",
     "text": [
      "\n",
      "1109\n",
      "878\n",
      "17090\n",
      "116\n",
      "49070\n",
      "\n",
      "1109\n",
      "861\n",
      "17447\n",
      "112\n",
      "49986\n",
      "\n",
      "1108\n",
      "869\n",
      "19082\n",
      "104\n",
      "53389\n",
      "\n",
      "1108\n",
      "820\n",
      "18735\n",
      "104\n",
      "52076\n",
      "\n",
      "1108\n",
      "858\n",
      "18186\n",
      "96\n",
      "52440\n"
     ]
    }
   ],
   "source": [
    "for i in range(1, n_folds+1):\n",
    "\n",
    "    seqs_file = input_path + str(i) + '/validation/seqs.fa'\n",
    "    samples_file = input_path + str(i) + '/validation/samples.tsv'\n",
    "\n",
    "    split_info(seqs_file, samples_file)\n"
   ]
  },
  {
   "cell_type": "code",
   "execution_count": 11,
   "metadata": {},
   "outputs": [
    {
     "name": "stdout",
     "output_type": "stream",
     "text": [
      "\n",
      "1108\n",
      "881\n",
      "18422\n",
      "98\n",
      "52782\n"
     ]
    }
   ],
   "source": [
    "seqs_file = 'datasets/splits/test/seqs.fa'\n",
    "samples_file = 'datasets/splits/test/samples.tsv'\n",
    "\n",
    "split_info(seqs_file, samples_file)"
   ]
  }
 ],
 "metadata": {
  "kernelspec": {
   "display_name": "circtis_dev",
   "language": "python",
   "name": "python3"
  },
  "language_info": {
   "codemirror_mode": {
    "name": "ipython",
    "version": 3
   },
   "file_extension": ".py",
   "mimetype": "text/x-python",
   "name": "python",
   "nbconvert_exporter": "python",
   "pygments_lexer": "ipython3",
   "version": "3.6.15"
  },
  "orig_nbformat": 4
 },
 "nbformat": 4,
 "nbformat_minor": 2
}
