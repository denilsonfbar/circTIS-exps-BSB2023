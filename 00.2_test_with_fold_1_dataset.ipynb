{
 "cells": [
  {
   "cell_type": "code",
   "execution_count": 1,
   "metadata": {},
   "outputs": [],
   "source": [
    "import pandas as pd\n",
    "from time import time\n",
    "import datetime as dt\n",
    "import libcirctis\n",
    "\n",
    "train_samples_file = 'datasets/cross_validation/fold_1/train/samples.tsv'\n",
    "test_samples_file =  'datasets/cross_validation/fold_1/validation/samples.tsv'\n",
    "\n",
    "parameters = {}\n",
    "parameters['kernel'] = 'WD'\n",
    "parameters['fold'] = 0\n",
    "\n",
    "parameters['up_sample_size'] = 100\n",
    "parameters['down_sample_size'] = 103\n",
    "parameters['degree'] = parameters['up_sample_size'] + parameters['down_sample_size']\n",
    "parameters['C1'] = 1.0\n",
    "parameters['C2'] = 1.0\n",
    "\n",
    "pd.set_option('display.max_columns', None)"
   ]
  },
  {
   "cell_type": "code",
   "execution_count": null,
   "metadata": {},
   "outputs": [],
   "source": [
    "df_samples_train_all = pd.read_csv(train_samples_file, sep='\\t', header=0)\n",
    "df_samples_train_all"
   ]
  },
  {
   "cell_type": "code",
   "execution_count": null,
   "metadata": {},
   "outputs": [],
   "source": [
    "df_samples_test_all = pd.read_csv(test_samples_file, sep='\\t', header=0)\n",
    "df_samples_test_all"
   ]
  },
  {
   "cell_type": "code",
   "execution_count": null,
   "metadata": {},
   "outputs": [],
   "source": []
  },
  {
   "cell_type": "code",
   "execution_count": null,
   "metadata": {},
   "outputs": [],
   "source": [
    "df_samples_pos_test = df_samples_test_all.loc[(df_samples_test_all['sample_label'] == 1)]\n",
    "df_samples_pos_test.shape"
   ]
  },
  {
   "cell_type": "code",
   "execution_count": null,
   "metadata": {},
   "outputs": [],
   "source": [
    "df_samples_neg_test = df_samples_test_all.loc[(df_samples_test_all['sample_label'] == -1)]\n",
    "df_samples_neg_test.shape"
   ]
  },
  {
   "cell_type": "code",
   "execution_count": null,
   "metadata": {},
   "outputs": [],
   "source": [
    "df_samples_neg_test.shape[0] / df_samples_pos_test.shape[0]"
   ]
  },
  {
   "cell_type": "code",
   "execution_count": null,
   "metadata": {},
   "outputs": [],
   "source": []
  },
  {
   "cell_type": "code",
   "execution_count": null,
   "metadata": {},
   "outputs": [],
   "source": [
    "df_samples_pos_train = df_samples_train_all.loc[(df_samples_train_all['sample_label'] == 1)]\n",
    "df_samples_pos_train.shape"
   ]
  },
  {
   "cell_type": "code",
   "execution_count": null,
   "metadata": {},
   "outputs": [],
   "source": [
    "df_samples_neg_train = df_samples_train_all.loc[(df_samples_train_all['sample_label'] == -1)]\n",
    "df_samples_neg_train.shape"
   ]
  },
  {
   "cell_type": "code",
   "execution_count": null,
   "metadata": {},
   "outputs": [],
   "source": [
    "df_samples_neg_train = df_samples_neg_train.sample(frac=1, random_state = 721379)\n",
    "df_samples_neg_train = df_samples_neg_train.head(df_samples_pos_train.shape[0])\n",
    "df_samples_neg_train.shape"
   ]
  },
  {
   "cell_type": "code",
   "execution_count": null,
   "metadata": {},
   "outputs": [],
   "source": []
  },
  {
   "cell_type": "code",
   "execution_count": null,
   "metadata": {},
   "outputs": [],
   "source": [
    "df_samples_train = pd.concat([df_samples_pos_train, df_samples_neg_train])\n",
    "df_samples_train.shape"
   ]
  },
  {
   "cell_type": "code",
   "execution_count": null,
   "metadata": {},
   "outputs": [],
   "source": [
    "df_samples_test = pd.concat([df_samples_pos_test, df_samples_neg_test])\n",
    "df_samples_test.shape"
   ]
  },
  {
   "cell_type": "code",
   "execution_count": null,
   "metadata": {},
   "outputs": [],
   "source": []
  },
  {
   "cell_type": "code",
   "execution_count": null,
   "metadata": {},
   "outputs": [],
   "source": [
    "df_eval = libcirctis.create_df_evaluation()\n",
    "\n",
    "start_t = time()\n",
    "\n",
    "print('\\n' + dt.datetime.now().strftime(\"%Y-%m-%d %H:%M:%S\") + '\\t' + str(parameters['up_sample_size']) + '\\t' \n",
    "        + str(parameters['down_sample_size']) + '\\t' + str(parameters['degree']) + '\\t' + str(parameters['C1'])\n",
    "        + '\\t' + str(parameters['fold']))\n",
    "\n",
    "X_train, y_train, X_test, y_test, samples_info = libcirctis.prepare_exp_data(parameters, df_samples_train, df_samples_test)\n",
    "\n",
    "svm = libcirctis.train_svm (parameters, X_train, y_train)\n",
    "\n",
    "train_t = time()\n",
    "train_time = train_t - start_t\n",
    "print(f'Train time: {train_time:.3f} secs')\n",
    "\n",
    "y_pred_labels, y_pred_scores = libcirctis.svm_predict(svm, X_test)\n",
    "\n",
    "pred_time = time() - train_t\n",
    "print(f'Prediction time: {pred_time:.3f} secs')\n",
    "\n",
    "times = {}\n",
    "times['train_time'] = train_time\n",
    "times['pred_time'] = pred_time\n",
    "\n",
    "metrics = {}\n",
    "metrics = libcirctis.calc_metrics_labels(metrics, y_test, y_pred_labels)\n",
    "metrics = libcirctis.calc_metrics_scores(metrics, y_test, y_pred_scores)\n",
    "\n",
    "libcirctis.add_result_in_df_evaluation(df_eval, parameters, samples_info, times, metrics)"
   ]
  }
 ],
 "metadata": {
  "kernelspec": {
   "display_name": "circtis_dev",
   "language": "python",
   "name": "python3"
  },
  "language_info": {
   "codemirror_mode": {
    "name": "ipython",
    "version": 3
   },
   "file_extension": ".py",
   "mimetype": "text/x-python",
   "name": "python",
   "nbconvert_exporter": "python",
   "pygments_lexer": "ipython3",
   "version": "3.6.15"
  },
  "orig_nbformat": 4
 },
 "nbformat": 4,
 "nbformat_minor": 2
}
