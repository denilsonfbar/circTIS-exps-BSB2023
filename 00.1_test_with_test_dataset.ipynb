{
 "cells": [
  {
   "cell_type": "code",
   "execution_count": 1,
   "metadata": {},
   "outputs": [],
   "source": [
    "import pandas as pd\n",
    "from time import time\n",
    "import datetime as dt\n",
    "import libcirctis\n",
    "\n",
    "test_samples_file =  'datasets/splits/test/samples.tsv'\n",
    "\n",
    "parameters = {}\n",
    "parameters['kernel'] = 'WD'\n",
    "parameters['fold'] = 0\n",
    "\n",
    "parameters['up_sample_size'] = 100\n",
    "parameters['down_sample_size'] = 103\n",
    "parameters['degree'] = parameters['up_sample_size'] + parameters['down_sample_size']\n",
    "parameters['C1'] = 1.0\n",
    "parameters['C2'] = 1.0\n",
    "\n",
    "frac_test = 0.05\n",
    "\n",
    "pd.set_option('display.max_columns', None)"
   ]
  },
  {
   "cell_type": "code",
   "execution_count": 2,
   "metadata": {},
   "outputs": [
    {
     "data": {
      "text/plain": [
       "(72183, 7)"
      ]
     },
     "execution_count": 2,
     "metadata": {},
     "output_type": "execute_result"
    }
   ],
   "source": [
    "df_samples = pd.read_csv(test_samples_file, sep='\\t', header=0)\n",
    "df_samples.shape"
   ]
  },
  {
   "cell_type": "code",
   "execution_count": 3,
   "metadata": {},
   "outputs": [
    {
     "data": {
      "text/plain": [
       "(979, 7)"
      ]
     },
     "execution_count": 3,
     "metadata": {},
     "output_type": "execute_result"
    }
   ],
   "source": [
    "df_samples_pos = df_samples.loc[(df_samples['sample_label'] == 1)]\n",
    "df_samples_pos.shape"
   ]
  },
  {
   "cell_type": "code",
   "execution_count": 4,
   "metadata": {},
   "outputs": [
    {
     "data": {
      "text/plain": [
       "(71204, 7)"
      ]
     },
     "execution_count": 4,
     "metadata": {},
     "output_type": "execute_result"
    }
   ],
   "source": [
    "df_samples_neg = df_samples.loc[(df_samples['sample_label'] == -1)]\n",
    "df_samples_neg.shape"
   ]
  },
  {
   "cell_type": "code",
   "execution_count": null,
   "metadata": {},
   "outputs": [],
   "source": []
  },
  {
   "cell_type": "code",
   "execution_count": 5,
   "metadata": {},
   "outputs": [
    {
     "data": {
      "text/plain": [
       "(49, 7)"
      ]
     },
     "execution_count": 5,
     "metadata": {},
     "output_type": "execute_result"
    }
   ],
   "source": [
    "df_samples_pos_test = df_samples_pos.sample(frac=frac_test, random_state = 721379)\n",
    "df_samples_pos_test.shape"
   ]
  },
  {
   "cell_type": "code",
   "execution_count": 6,
   "metadata": {},
   "outputs": [
    {
     "data": {
      "text/plain": [
       "(930, 7)"
      ]
     },
     "execution_count": 6,
     "metadata": {},
     "output_type": "execute_result"
    }
   ],
   "source": [
    "df_samples_pos_train = df_samples_pos.drop(df_samples_pos_test.index)\n",
    "df_samples_pos_train.shape"
   ]
  },
  {
   "cell_type": "code",
   "execution_count": 7,
   "metadata": {},
   "outputs": [
    {
     "data": {
      "text/plain": [
       "(3560, 7)"
      ]
     },
     "execution_count": 7,
     "metadata": {},
     "output_type": "execute_result"
    }
   ],
   "source": [
    "df_samples_neg_test = df_samples_neg.sample(frac=frac_test, random_state = 721379)\n",
    "df_samples_neg_test.shape"
   ]
  },
  {
   "cell_type": "code",
   "execution_count": 8,
   "metadata": {},
   "outputs": [
    {
     "data": {
      "text/plain": [
       "(67644, 7)"
      ]
     },
     "execution_count": 8,
     "metadata": {},
     "output_type": "execute_result"
    }
   ],
   "source": [
    "df_samples_neg_train = df_samples_neg.drop(df_samples_neg_test.index)\n",
    "df_samples_neg_train.shape"
   ]
  },
  {
   "cell_type": "code",
   "execution_count": 9,
   "metadata": {},
   "outputs": [
    {
     "data": {
      "text/plain": [
       "(930, 7)"
      ]
     },
     "execution_count": 9,
     "metadata": {},
     "output_type": "execute_result"
    }
   ],
   "source": [
    "df_samples_neg_train = df_samples_neg_train.head(df_samples_pos_train.shape[0])\n",
    "df_samples_neg_train.shape"
   ]
  },
  {
   "cell_type": "code",
   "execution_count": 10,
   "metadata": {},
   "outputs": [
    {
     "data": {
      "text/plain": [
       "72.65306122448979"
      ]
     },
     "execution_count": 10,
     "metadata": {},
     "output_type": "execute_result"
    }
   ],
   "source": [
    "df_samples_neg_test.shape[0] / df_samples_pos_test.shape[0]"
   ]
  },
  {
   "cell_type": "code",
   "execution_count": null,
   "metadata": {},
   "outputs": [],
   "source": []
  },
  {
   "cell_type": "code",
   "execution_count": 11,
   "metadata": {},
   "outputs": [
    {
     "data": {
      "text/plain": [
       "(1860, 7)"
      ]
     },
     "execution_count": 11,
     "metadata": {},
     "output_type": "execute_result"
    }
   ],
   "source": [
    "df_samples_train = pd.concat([df_samples_pos_train, df_samples_neg_train])\n",
    "df_samples_train.shape"
   ]
  },
  {
   "cell_type": "code",
   "execution_count": 12,
   "metadata": {},
   "outputs": [
    {
     "data": {
      "text/plain": [
       "(3609, 7)"
      ]
     },
     "execution_count": 12,
     "metadata": {},
     "output_type": "execute_result"
    }
   ],
   "source": [
    "df_samples_test = pd.concat([df_samples_pos_test, df_samples_neg_test])\n",
    "df_samples_test.shape"
   ]
  },
  {
   "cell_type": "code",
   "execution_count": null,
   "metadata": {},
   "outputs": [],
   "source": []
  },
  {
   "cell_type": "code",
   "execution_count": 13,
   "metadata": {},
   "outputs": [
    {
     "name": "stdout",
     "output_type": "stream",
     "text": [
      "\n",
      "2023-05-28 22:32:02\t100\t103\t203\t1.0\t0\n",
      "Train time: 9.903 secs\n",
      "Prediction time: 1.449 secs\n"
     ]
    },
    {
     "data": {
      "text/html": [
       "<div>\n",
       "<style scoped>\n",
       "    .dataframe tbody tr th:only-of-type {\n",
       "        vertical-align: middle;\n",
       "    }\n",
       "\n",
       "    .dataframe tbody tr th {\n",
       "        vertical-align: top;\n",
       "    }\n",
       "\n",
       "    .dataframe thead th {\n",
       "        text-align: right;\n",
       "    }\n",
       "</style>\n",
       "<table border=\"1\" class=\"dataframe\">\n",
       "  <thead>\n",
       "    <tr style=\"text-align: right;\">\n",
       "      <th></th>\n",
       "      <th>fold</th>\n",
       "      <th>up_size</th>\n",
       "      <th>down_size</th>\n",
       "      <th>degree</th>\n",
       "      <th>C1</th>\n",
       "      <th>C2</th>\n",
       "      <th>kernel</th>\n",
       "      <th>TP</th>\n",
       "      <th>FP</th>\n",
       "      <th>FN</th>\n",
       "      <th>TN</th>\n",
       "      <th>F1-score</th>\n",
       "      <th>AUPR</th>\n",
       "      <th>Precision</th>\n",
       "      <th>Recall</th>\n",
       "      <th>Specificity</th>\n",
       "      <th>Accuracy</th>\n",
       "      <th>AUROC</th>\n",
       "      <th>n_train</th>\n",
       "      <th>n_train_pos</th>\n",
       "      <th>n_train_neg</th>\n",
       "      <th>n_test</th>\n",
       "      <th>n_test_pos</th>\n",
       "      <th>n_test_neg</th>\n",
       "      <th>sample_size</th>\n",
       "      <th>train_time</th>\n",
       "      <th>pred_time</th>\n",
       "    </tr>\n",
       "  </thead>\n",
       "  <tbody>\n",
       "    <tr>\n",
       "      <th>0</th>\n",
       "      <td>0</td>\n",
       "      <td>100</td>\n",
       "      <td>103</td>\n",
       "      <td>203</td>\n",
       "      <td>1.0</td>\n",
       "      <td>1.0</td>\n",
       "      <td>WD</td>\n",
       "      <td>34</td>\n",
       "      <td>46</td>\n",
       "      <td>15</td>\n",
       "      <td>3514</td>\n",
       "      <td>0.527132</td>\n",
       "      <td>0.67805</td>\n",
       "      <td>0.425</td>\n",
       "      <td>0.693878</td>\n",
       "      <td>0.987079</td>\n",
       "      <td>0.983098</td>\n",
       "      <td>0.97156</td>\n",
       "      <td>1860</td>\n",
       "      <td>930</td>\n",
       "      <td>930</td>\n",
       "      <td>3609</td>\n",
       "      <td>49</td>\n",
       "      <td>3560</td>\n",
       "      <td>203</td>\n",
       "      <td>9.903005</td>\n",
       "      <td>1.449139</td>\n",
       "    </tr>\n",
       "  </tbody>\n",
       "</table>\n",
       "</div>"
      ],
      "text/plain": [
       "  fold up_size down_size degree   C1   C2 kernel  TP  FP  FN    TN  F1-score  \\\n",
       "0    0     100       103    203  1.0  1.0     WD  34  46  15  3514  0.527132   \n",
       "\n",
       "      AUPR  Precision    Recall  Specificity  Accuracy    AUROC n_train  \\\n",
       "0  0.67805      0.425  0.693878     0.987079  0.983098  0.97156    1860   \n",
       "\n",
       "  n_train_pos n_train_neg n_test n_test_pos n_test_neg sample_size  \\\n",
       "0         930         930   3609         49       3560         203   \n",
       "\n",
       "   train_time  pred_time  \n",
       "0    9.903005   1.449139  "
      ]
     },
     "execution_count": 13,
     "metadata": {},
     "output_type": "execute_result"
    }
   ],
   "source": [
    "df_eval = libcirctis.create_df_evaluation()\n",
    "\n",
    "start_t = time()\n",
    "\n",
    "print('\\n' + dt.datetime.now().strftime(\"%Y-%m-%d %H:%M:%S\") + '\\t' + str(parameters['up_sample_size']) + '\\t' \n",
    "        + str(parameters['down_sample_size']) + '\\t' + str(parameters['degree']) + '\\t' + str(parameters['C1'])\n",
    "        + '\\t' + str(parameters['fold']))\n",
    "\n",
    "X_train, y_train, X_test, y_test, samples_info = libcirctis.prepare_exp_data(parameters, df_samples_train, df_samples_test)\n",
    "\n",
    "svm = libcirctis.train_svm (parameters, X_train, y_train)\n",
    "\n",
    "train_t = time()\n",
    "train_time = train_t - start_t\n",
    "print(f'Train time: {train_time:.3f} secs')\n",
    "\n",
    "y_pred_labels, y_pred_scores = libcirctis.svm_predict(svm, X_test)\n",
    "\n",
    "pred_time = time() - train_t\n",
    "print(f'Prediction time: {pred_time:.3f} secs')\n",
    "\n",
    "times = {}\n",
    "times['train_time'] = train_time\n",
    "times['pred_time'] = pred_time\n",
    "\n",
    "metrics = {}\n",
    "metrics = libcirctis.calc_metrics_labels(metrics, y_test, y_pred_labels)\n",
    "metrics = libcirctis.calc_metrics_scores(metrics, y_test, y_pred_scores)\n",
    "\n",
    "libcirctis.add_result_in_df_evaluation(df_eval, parameters, samples_info, times, metrics)"
   ]
  }
 ],
 "metadata": {
  "kernelspec": {
   "display_name": "circtis_dev",
   "language": "python",
   "name": "python3"
  },
  "language_info": {
   "codemirror_mode": {
    "name": "ipython",
    "version": 3
   },
   "file_extension": ".py",
   "mimetype": "text/x-python",
   "name": "python",
   "nbconvert_exporter": "python",
   "pygments_lexer": "ipython3",
   "version": "3.6.15"
  },
  "orig_nbformat": 4
 },
 "nbformat": 4,
 "nbformat_minor": 2
}
