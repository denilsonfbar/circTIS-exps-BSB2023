{
 "cells": [
  {
   "cell_type": "code",
   "execution_count": 1,
   "metadata": {},
   "outputs": [],
   "source": [
    "import os\n",
    "import libcirctis\n",
    "\n",
    "num_splits = 6\n",
    "seed_random = 721379\n",
    "\n",
    "# Inputs\n",
    "input_fasta_file = 'datasets/main/seqs.fa'\n",
    "input_tsv_file = 'datasets/main/tis.tsv'\n",
    "\n",
    "# Outputs\n",
    "output_path = 'datasets/splits/'\n",
    "os.mkdir(output_path)"
   ]
  },
  {
   "cell_type": "code",
   "execution_count": 2,
   "metadata": {},
   "outputs": [],
   "source": [
    "fasta_file_names = libcirctis.split_fasta_randomly(input_fasta_file, output_path, num_splits, seed_random)"
   ]
  },
  {
   "cell_type": "code",
   "execution_count": 3,
   "metadata": {},
   "outputs": [],
   "source": [
    "for fasta_file_name in fasta_file_names:\n",
    "\n",
    "    output_tsv_file = fasta_file_name.replace('seqs.fa', 'tis.tsv')\n",
    "    \n",
    "    libcirctis.fasta_tsv_inner_join(fasta_file_name, input_tsv_file, output_tsv_file)"
   ]
  },
  {
   "cell_type": "code",
   "execution_count": 4,
   "metadata": {},
   "outputs": [],
   "source": [
    "os.rename('datasets/splits/6', 'datasets/splits/test')"
   ]
  }
 ],
 "metadata": {
  "kernelspec": {
   "display_name": "circtis_dev",
   "language": "python",
   "name": "python3"
  },
  "language_info": {
   "codemirror_mode": {
    "name": "ipython",
    "version": 3
   },
   "file_extension": ".py",
   "mimetype": "text/x-python",
   "name": "python",
   "nbconvert_exporter": "python",
   "pygments_lexer": "ipython3",
   "version": "3.6.15"
  },
  "orig_nbformat": 4
 },
 "nbformat": 4,
 "nbformat_minor": 2
}
