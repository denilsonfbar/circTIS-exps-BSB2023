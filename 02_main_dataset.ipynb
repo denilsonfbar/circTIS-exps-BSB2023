{
 "cells": [
  {
   "cell_type": "code",
   "execution_count": 1,
   "metadata": {},
   "outputs": [],
   "source": [
    "import os\n",
    "import pandas as pd\n",
    "import libcirctis\n",
    "\n",
    "# Inputs\n",
    "transcirc_circrnas_fasta_file = 'data_raw/transcirc_sequence.fa.bgz'\n",
    "mapped_tis_tsv_file = 'data_raw/circRNA_TIS_all.tsv'\n",
    "\n",
    "# Outputs\n",
    "output_path_main_dataset = 'datasets/main/'\n",
    "os.mkdir(output_path_main_dataset)"
   ]
  },
  {
   "cell_type": "code",
   "execution_count": 2,
   "metadata": {},
   "outputs": [
    {
     "data": {
      "text/html": [
       "<div>\n",
       "<style scoped>\n",
       "    .dataframe tbody tr th:only-of-type {\n",
       "        vertical-align: middle;\n",
       "    }\n",
       "\n",
       "    .dataframe tbody tr th {\n",
       "        vertical-align: top;\n",
       "    }\n",
       "\n",
       "    .dataframe thead th {\n",
       "        text-align: right;\n",
       "    }\n",
       "</style>\n",
       "<table border=\"1\" class=\"dataframe\">\n",
       "  <thead>\n",
       "    <tr style=\"text-align: right;\">\n",
       "      <th></th>\n",
       "      <th>transcirc_id</th>\n",
       "      <th>circ_strand</th>\n",
       "      <th>circ_chrom</th>\n",
       "      <th>tis_coordinate_hg38</th>\n",
       "      <th>tis_position_in_circrna</th>\n",
       "    </tr>\n",
       "  </thead>\n",
       "  <tbody>\n",
       "    <tr>\n",
       "      <th>0</th>\n",
       "      <td>TC-hsa-GNB1_0028</td>\n",
       "      <td>-</td>\n",
       "      <td>chr1</td>\n",
       "      <td>1825453</td>\n",
       "      <td>47</td>\n",
       "    </tr>\n",
       "    <tr>\n",
       "      <th>1</th>\n",
       "      <td>TC-hsa-GNB1_0038</td>\n",
       "      <td>-</td>\n",
       "      <td>chr1</td>\n",
       "      <td>1825453</td>\n",
       "      <td>47</td>\n",
       "    </tr>\n",
       "    <tr>\n",
       "      <th>2</th>\n",
       "      <td>TC-hsa-GNB1_0041</td>\n",
       "      <td>-</td>\n",
       "      <td>chr1</td>\n",
       "      <td>1825453</td>\n",
       "      <td>47</td>\n",
       "    </tr>\n",
       "    <tr>\n",
       "      <th>3</th>\n",
       "      <td>TC-hsa-GNB1_0076</td>\n",
       "      <td>-</td>\n",
       "      <td>chr1</td>\n",
       "      <td>1825453</td>\n",
       "      <td>47</td>\n",
       "    </tr>\n",
       "    <tr>\n",
       "      <th>4</th>\n",
       "      <td>TC-hsa-GNB1_0065</td>\n",
       "      <td>-</td>\n",
       "      <td>chr1</td>\n",
       "      <td>1825453</td>\n",
       "      <td>47</td>\n",
       "    </tr>\n",
       "    <tr>\n",
       "      <th>...</th>\n",
       "      <td>...</td>\n",
       "      <td>...</td>\n",
       "      <td>...</td>\n",
       "      <td>...</td>\n",
       "      <td>...</td>\n",
       "    </tr>\n",
       "    <tr>\n",
       "      <th>10631</th>\n",
       "      <td>TC-hsa-KMT5B_0036</td>\n",
       "      <td>-</td>\n",
       "      <td>chr11</td>\n",
       "      <td>68190104</td>\n",
       "      <td>49</td>\n",
       "    </tr>\n",
       "    <tr>\n",
       "      <th>10632</th>\n",
       "      <td>TC-hsa-TOP2A_0045</td>\n",
       "      <td>-</td>\n",
       "      <td>chr17</td>\n",
       "      <td>40416754</td>\n",
       "      <td>142</td>\n",
       "    </tr>\n",
       "    <tr>\n",
       "      <th>10633</th>\n",
       "      <td>TC-hsa-RECQL_0005</td>\n",
       "      <td>-</td>\n",
       "      <td>chr12</td>\n",
       "      <td>21499570</td>\n",
       "      <td>46</td>\n",
       "    </tr>\n",
       "    <tr>\n",
       "      <th>10634</th>\n",
       "      <td>TC-hsa-SET_0008</td>\n",
       "      <td>+</td>\n",
       "      <td>chr9</td>\n",
       "      <td>128693791</td>\n",
       "      <td>372</td>\n",
       "    </tr>\n",
       "    <tr>\n",
       "      <th>10635</th>\n",
       "      <td>TC-hsa-SMAD5_0011</td>\n",
       "      <td>+</td>\n",
       "      <td>chr5</td>\n",
       "      <td>136147887</td>\n",
       "      <td>52</td>\n",
       "    </tr>\n",
       "  </tbody>\n",
       "</table>\n",
       "<p>10636 rows × 5 columns</p>\n",
       "</div>"
      ],
      "text/plain": [
       "            transcirc_id circ_strand circ_chrom  tis_coordinate_hg38  \\\n",
       "0       TC-hsa-GNB1_0028           -       chr1              1825453   \n",
       "1       TC-hsa-GNB1_0038           -       chr1              1825453   \n",
       "2       TC-hsa-GNB1_0041           -       chr1              1825453   \n",
       "3       TC-hsa-GNB1_0076           -       chr1              1825453   \n",
       "4       TC-hsa-GNB1_0065           -       chr1              1825453   \n",
       "...                  ...         ...        ...                  ...   \n",
       "10631  TC-hsa-KMT5B_0036           -      chr11             68190104   \n",
       "10632  TC-hsa-TOP2A_0045           -      chr17             40416754   \n",
       "10633  TC-hsa-RECQL_0005           -      chr12             21499570   \n",
       "10634    TC-hsa-SET_0008           +       chr9            128693791   \n",
       "10635  TC-hsa-SMAD5_0011           +       chr5            136147887   \n",
       "\n",
       "       tis_position_in_circrna  \n",
       "0                           47  \n",
       "1                           47  \n",
       "2                           47  \n",
       "3                           47  \n",
       "4                           47  \n",
       "...                        ...  \n",
       "10631                       49  \n",
       "10632                      142  \n",
       "10633                       46  \n",
       "10634                      372  \n",
       "10635                       52  \n",
       "\n",
       "[10636 rows x 5 columns]"
      ]
     },
     "execution_count": 2,
     "metadata": {},
     "output_type": "execute_result"
    }
   ],
   "source": [
    "df_tis = pd.read_csv(mapped_tis_tsv_file, sep='\\t', header=0)\n",
    "df_tis"
   ]
  },
  {
   "cell_type": "code",
   "execution_count": 3,
   "metadata": {},
   "outputs": [
    {
     "data": {
      "text/plain": [
       "9394"
      ]
     },
     "execution_count": 3,
     "metadata": {},
     "output_type": "execute_result"
    }
   ],
   "source": [
    "df_tis['transcirc_id'].nunique()"
   ]
  },
  {
   "attachments": {},
   "cell_type": "markdown",
   "metadata": {},
   "source": [
    "### Data cleaning"
   ]
  },
  {
   "cell_type": "code",
   "execution_count": 4,
   "metadata": {},
   "outputs": [
    {
     "data": {
      "text/html": [
       "<div>\n",
       "<style scoped>\n",
       "    .dataframe tbody tr th:only-of-type {\n",
       "        vertical-align: middle;\n",
       "    }\n",
       "\n",
       "    .dataframe tbody tr th {\n",
       "        vertical-align: top;\n",
       "    }\n",
       "\n",
       "    .dataframe thead th {\n",
       "        text-align: right;\n",
       "    }\n",
       "</style>\n",
       "<table border=\"1\" class=\"dataframe\">\n",
       "  <thead>\n",
       "    <tr style=\"text-align: right;\">\n",
       "      <th></th>\n",
       "      <th>transcirc_id</th>\n",
       "      <th>circ_strand</th>\n",
       "      <th>circ_chrom</th>\n",
       "      <th>tis_coordinate_hg38</th>\n",
       "      <th>tis_position_in_circrna</th>\n",
       "    </tr>\n",
       "  </thead>\n",
       "  <tbody>\n",
       "    <tr>\n",
       "      <th>2791</th>\n",
       "      <td>TC-hsa-UBC_0003</td>\n",
       "      <td>-</td>\n",
       "      <td>chr12</td>\n",
       "      <td>124911874</td>\n",
       "      <td>77</td>\n",
       "    </tr>\n",
       "    <tr>\n",
       "      <th>2792</th>\n",
       "      <td>TC-hsa-UBC_0003</td>\n",
       "      <td>-</td>\n",
       "      <td>chr12</td>\n",
       "      <td>124913242</td>\n",
       "      <td>77</td>\n",
       "    </tr>\n",
       "    <tr>\n",
       "      <th>2793</th>\n",
       "      <td>TC-hsa-UBC_0003</td>\n",
       "      <td>-</td>\n",
       "      <td>chr12</td>\n",
       "      <td>124913698</td>\n",
       "      <td>77</td>\n",
       "    </tr>\n",
       "  </tbody>\n",
       "</table>\n",
       "</div>"
      ],
      "text/plain": [
       "         transcirc_id circ_strand circ_chrom  tis_coordinate_hg38  \\\n",
       "2791  TC-hsa-UBC_0003           -      chr12            124911874   \n",
       "2792  TC-hsa-UBC_0003           -      chr12            124913242   \n",
       "2793  TC-hsa-UBC_0003           -      chr12            124913698   \n",
       "\n",
       "      tis_position_in_circrna  \n",
       "2791                       77  \n",
       "2792                       77  \n",
       "2793                       77  "
      ]
     },
     "execution_count": 4,
     "metadata": {},
     "output_type": "execute_result"
    }
   ],
   "source": [
    "df_tis[df_tis['transcirc_id'] == 'TC-hsa-UBC_0003']"
   ]
  },
  {
   "cell_type": "code",
   "execution_count": 5,
   "metadata": {},
   "outputs": [],
   "source": [
    "df_tis = df_tis.drop(index=2792)  # repetition\n",
    "df_tis = df_tis.drop(index=2793)  # repetition"
   ]
  },
  {
   "cell_type": "code",
   "execution_count": 6,
   "metadata": {},
   "outputs": [
    {
     "data": {
      "text/html": [
       "<div>\n",
       "<style scoped>\n",
       "    .dataframe tbody tr th:only-of-type {\n",
       "        vertical-align: middle;\n",
       "    }\n",
       "\n",
       "    .dataframe tbody tr th {\n",
       "        vertical-align: top;\n",
       "    }\n",
       "\n",
       "    .dataframe thead th {\n",
       "        text-align: right;\n",
       "    }\n",
       "</style>\n",
       "<table border=\"1\" class=\"dataframe\">\n",
       "  <thead>\n",
       "    <tr style=\"text-align: right;\">\n",
       "      <th></th>\n",
       "      <th>transcirc_id</th>\n",
       "      <th>circ_strand</th>\n",
       "      <th>circ_chrom</th>\n",
       "      <th>tis_coordinate_hg38</th>\n",
       "      <th>tis_position_in_circrna</th>\n",
       "    </tr>\n",
       "  </thead>\n",
       "  <tbody>\n",
       "    <tr>\n",
       "      <th>3851</th>\n",
       "      <td>TC-hsa-UBB_0002</td>\n",
       "      <td>+</td>\n",
       "      <td>chr17</td>\n",
       "      <td>16382097</td>\n",
       "      <td>196</td>\n",
       "    </tr>\n",
       "    <tr>\n",
       "      <th>3852</th>\n",
       "      <td>TC-hsa-UBB_0002</td>\n",
       "      <td>+</td>\n",
       "      <td>chr17</td>\n",
       "      <td>16382325</td>\n",
       "      <td>196</td>\n",
       "    </tr>\n",
       "  </tbody>\n",
       "</table>\n",
       "</div>"
      ],
      "text/plain": [
       "         transcirc_id circ_strand circ_chrom  tis_coordinate_hg38  \\\n",
       "3851  TC-hsa-UBB_0002           +      chr17             16382097   \n",
       "3852  TC-hsa-UBB_0002           +      chr17             16382325   \n",
       "\n",
       "      tis_position_in_circrna  \n",
       "3851                      196  \n",
       "3852                      196  "
      ]
     },
     "execution_count": 6,
     "metadata": {},
     "output_type": "execute_result"
    }
   ],
   "source": [
    "df_tis[df_tis['transcirc_id'] == 'TC-hsa-UBB_0002']"
   ]
  },
  {
   "cell_type": "code",
   "execution_count": 7,
   "metadata": {},
   "outputs": [],
   "source": [
    "df_tis = df_tis.drop(index=3852)  # repetition"
   ]
  },
  {
   "cell_type": "code",
   "execution_count": 8,
   "metadata": {},
   "outputs": [
    {
     "data": {
      "text/html": [
       "<div>\n",
       "<style scoped>\n",
       "    .dataframe tbody tr th:only-of-type {\n",
       "        vertical-align: middle;\n",
       "    }\n",
       "\n",
       "    .dataframe tbody tr th {\n",
       "        vertical-align: top;\n",
       "    }\n",
       "\n",
       "    .dataframe thead th {\n",
       "        text-align: right;\n",
       "    }\n",
       "</style>\n",
       "<table border=\"1\" class=\"dataframe\">\n",
       "  <thead>\n",
       "    <tr style=\"text-align: right;\">\n",
       "      <th></th>\n",
       "      <th>transcirc_id</th>\n",
       "      <th>circ_strand</th>\n",
       "      <th>circ_chrom</th>\n",
       "      <th>tis_coordinate_hg38</th>\n",
       "      <th>tis_position_in_circrna</th>\n",
       "    </tr>\n",
       "  </thead>\n",
       "  <tbody>\n",
       "    <tr>\n",
       "      <th>9643</th>\n",
       "      <td>TC-hsa-PHF6_0005</td>\n",
       "      <td>+</td>\n",
       "      <td>chrX</td>\n",
       "      <td>134377590</td>\n",
       "      <td>141</td>\n",
       "    </tr>\n",
       "    <tr>\n",
       "      <th>9644</th>\n",
       "      <td>TC-hsa-PHF6_0005</td>\n",
       "      <td>+</td>\n",
       "      <td>chrX</td>\n",
       "      <td>134377618</td>\n",
       "      <td>28</td>\n",
       "    </tr>\n",
       "  </tbody>\n",
       "</table>\n",
       "</div>"
      ],
      "text/plain": [
       "          transcirc_id circ_strand circ_chrom  tis_coordinate_hg38  \\\n",
       "9643  TC-hsa-PHF6_0005           +       chrX            134377590   \n",
       "9644  TC-hsa-PHF6_0005           +       chrX            134377618   \n",
       "\n",
       "      tis_position_in_circrna  \n",
       "9643                      141  \n",
       "9644                       28  "
      ]
     },
     "execution_count": 8,
     "metadata": {},
     "output_type": "execute_result"
    }
   ],
   "source": [
    "df_tis[df_tis['transcirc_id'] == 'TC-hsa-PHF6_0005']"
   ]
  },
  {
   "cell_type": "code",
   "execution_count": 9,
   "metadata": {},
   "outputs": [],
   "source": [
    "df_tis = df_tis.drop(index=9643)  # TIS non-existent"
   ]
  },
  {
   "cell_type": "code",
   "execution_count": 10,
   "metadata": {},
   "outputs": [
    {
     "data": {
      "text/html": [
       "<div>\n",
       "<style scoped>\n",
       "    .dataframe tbody tr th:only-of-type {\n",
       "        vertical-align: middle;\n",
       "    }\n",
       "\n",
       "    .dataframe tbody tr th {\n",
       "        vertical-align: top;\n",
       "    }\n",
       "\n",
       "    .dataframe thead th {\n",
       "        text-align: right;\n",
       "    }\n",
       "</style>\n",
       "<table border=\"1\" class=\"dataframe\">\n",
       "  <thead>\n",
       "    <tr style=\"text-align: right;\">\n",
       "      <th></th>\n",
       "      <th>transcirc_id</th>\n",
       "      <th>circ_strand</th>\n",
       "      <th>circ_chrom</th>\n",
       "      <th>tis_coordinate_hg38</th>\n",
       "      <th>tis_position_in_circrna</th>\n",
       "    </tr>\n",
       "  </thead>\n",
       "  <tbody>\n",
       "    <tr>\n",
       "      <th>0</th>\n",
       "      <td>TC-hsa-GNB1_0028</td>\n",
       "      <td>-</td>\n",
       "      <td>chr1</td>\n",
       "      <td>1825453</td>\n",
       "      <td>47</td>\n",
       "    </tr>\n",
       "    <tr>\n",
       "      <th>1</th>\n",
       "      <td>TC-hsa-GNB1_0038</td>\n",
       "      <td>-</td>\n",
       "      <td>chr1</td>\n",
       "      <td>1825453</td>\n",
       "      <td>47</td>\n",
       "    </tr>\n",
       "    <tr>\n",
       "      <th>2</th>\n",
       "      <td>TC-hsa-GNB1_0041</td>\n",
       "      <td>-</td>\n",
       "      <td>chr1</td>\n",
       "      <td>1825453</td>\n",
       "      <td>47</td>\n",
       "    </tr>\n",
       "    <tr>\n",
       "      <th>3</th>\n",
       "      <td>TC-hsa-GNB1_0076</td>\n",
       "      <td>-</td>\n",
       "      <td>chr1</td>\n",
       "      <td>1825453</td>\n",
       "      <td>47</td>\n",
       "    </tr>\n",
       "    <tr>\n",
       "      <th>4</th>\n",
       "      <td>TC-hsa-GNB1_0065</td>\n",
       "      <td>-</td>\n",
       "      <td>chr1</td>\n",
       "      <td>1825453</td>\n",
       "      <td>47</td>\n",
       "    </tr>\n",
       "    <tr>\n",
       "      <th>...</th>\n",
       "      <td>...</td>\n",
       "      <td>...</td>\n",
       "      <td>...</td>\n",
       "      <td>...</td>\n",
       "      <td>...</td>\n",
       "    </tr>\n",
       "    <tr>\n",
       "      <th>10631</th>\n",
       "      <td>TC-hsa-KMT5B_0036</td>\n",
       "      <td>-</td>\n",
       "      <td>chr11</td>\n",
       "      <td>68190104</td>\n",
       "      <td>49</td>\n",
       "    </tr>\n",
       "    <tr>\n",
       "      <th>10632</th>\n",
       "      <td>TC-hsa-TOP2A_0045</td>\n",
       "      <td>-</td>\n",
       "      <td>chr17</td>\n",
       "      <td>40416754</td>\n",
       "      <td>142</td>\n",
       "    </tr>\n",
       "    <tr>\n",
       "      <th>10633</th>\n",
       "      <td>TC-hsa-RECQL_0005</td>\n",
       "      <td>-</td>\n",
       "      <td>chr12</td>\n",
       "      <td>21499570</td>\n",
       "      <td>46</td>\n",
       "    </tr>\n",
       "    <tr>\n",
       "      <th>10634</th>\n",
       "      <td>TC-hsa-SET_0008</td>\n",
       "      <td>+</td>\n",
       "      <td>chr9</td>\n",
       "      <td>128693791</td>\n",
       "      <td>372</td>\n",
       "    </tr>\n",
       "    <tr>\n",
       "      <th>10635</th>\n",
       "      <td>TC-hsa-SMAD5_0011</td>\n",
       "      <td>+</td>\n",
       "      <td>chr5</td>\n",
       "      <td>136147887</td>\n",
       "      <td>52</td>\n",
       "    </tr>\n",
       "  </tbody>\n",
       "</table>\n",
       "<p>10632 rows × 5 columns</p>\n",
       "</div>"
      ],
      "text/plain": [
       "            transcirc_id circ_strand circ_chrom  tis_coordinate_hg38  \\\n",
       "0       TC-hsa-GNB1_0028           -       chr1              1825453   \n",
       "1       TC-hsa-GNB1_0038           -       chr1              1825453   \n",
       "2       TC-hsa-GNB1_0041           -       chr1              1825453   \n",
       "3       TC-hsa-GNB1_0076           -       chr1              1825453   \n",
       "4       TC-hsa-GNB1_0065           -       chr1              1825453   \n",
       "...                  ...         ...        ...                  ...   \n",
       "10631  TC-hsa-KMT5B_0036           -      chr11             68190104   \n",
       "10632  TC-hsa-TOP2A_0045           -      chr17             40416754   \n",
       "10633  TC-hsa-RECQL_0005           -      chr12             21499570   \n",
       "10634    TC-hsa-SET_0008           +       chr9            128693791   \n",
       "10635  TC-hsa-SMAD5_0011           +       chr5            136147887   \n",
       "\n",
       "       tis_position_in_circrna  \n",
       "0                           47  \n",
       "1                           47  \n",
       "2                           47  \n",
       "3                           47  \n",
       "4                           47  \n",
       "...                        ...  \n",
       "10631                       49  \n",
       "10632                      142  \n",
       "10633                       46  \n",
       "10634                      372  \n",
       "10635                       52  \n",
       "\n",
       "[10632 rows x 5 columns]"
      ]
     },
     "execution_count": 10,
     "metadata": {},
     "output_type": "execute_result"
    }
   ],
   "source": [
    "df_tis"
   ]
  },
  {
   "cell_type": "code",
   "execution_count": 11,
   "metadata": {},
   "outputs": [
    {
     "data": {
      "text/plain": [
       "(6650, 7665)"
      ]
     },
     "execution_count": 11,
     "metadata": {},
     "output_type": "execute_result"
    }
   ],
   "source": [
    "output_fasta_file = output_path_main_dataset + 'seqs.fa'\n",
    "output_tsv_file = output_path_main_dataset + 'tis.tsv'\n",
    "\n",
    "n_circrnas, n_tis = libcirctis.create_main_dataset(transcirc_circrnas_fasta_file, df_tis, output_fasta_file, output_tsv_file)\n",
    "\n",
    "n_circrnas, n_tis"
   ]
  },
  {
   "attachments": {},
   "cell_type": "markdown",
   "metadata": {},
   "source": [
    "### Checking"
   ]
  },
  {
   "cell_type": "code",
   "execution_count": 12,
   "metadata": {},
   "outputs": [
    {
     "data": {
      "text/plain": [
       "6650"
      ]
     },
     "execution_count": 12,
     "metadata": {},
     "output_type": "execute_result"
    }
   ],
   "source": [
    "libcirctis.remove_repeated_sequences_in_fasta_file(output_fasta_file)\n",
    "libcirctis.count_sequences_in_fasta_file(output_fasta_file)"
   ]
  }
 ],
 "metadata": {
  "kernelspec": {
   "display_name": "circcodan-exps_env",
   "language": "python",
   "name": "python3"
  },
  "language_info": {
   "codemirror_mode": {
    "name": "ipython",
    "version": 3
   },
   "file_extension": ".py",
   "mimetype": "text/x-python",
   "name": "python",
   "nbconvert_exporter": "python",
   "pygments_lexer": "ipython3",
   "version": "3.6.15"
  },
  "orig_nbformat": 4
 },
 "nbformat": 4,
 "nbformat_minor": 2
}
