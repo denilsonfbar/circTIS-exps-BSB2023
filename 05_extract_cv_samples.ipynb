{
 "cells": [
  {
   "cell_type": "code",
   "execution_count": null,
   "metadata": {},
   "outputs": [],
   "source": [
    "import os\n",
    "import libcirctis\n",
    "\n",
    "n_folds = 5\n",
    "\n",
    "cv_path = 'datasets/cross_validation/'"
   ]
  },
  {
   "cell_type": "code",
   "execution_count": null,
   "metadata": {},
   "outputs": [],
   "source": [
    "for i in range(1, n_folds+1):\n",
    "\n",
    "    dataset_type = 'valid'\n",
    "    dataset_valid_path = cv_path + 'fold_' + str(i) + '/validation/'\n",
    "    output_samples_file = dataset_valid_path + 'samples.tsv'\n",
    "    libcirctis.extract_circrna_samples(dataset_valid_path, dataset_type, output_samples_file)\n",
    "\n",
    "    dataset_type = 'train'\n",
    "    dataset_train_path = cv_path + 'fold_' + str(i) + '/train/'\n",
    "    output_samples_file = dataset_train_path + 'samples.tsv'\n",
    "    libcirctis.extract_circrna_samples(dataset_train_path, dataset_type, output_samples_file)"
   ]
  }
 ],
 "metadata": {
  "kernelspec": {
   "display_name": "circtis_dev",
   "language": "python",
   "name": "python3"
  },
  "language_info": {
   "codemirror_mode": {
    "name": "ipython",
    "version": 3
   },
   "file_extension": ".py",
   "mimetype": "text/x-python",
   "name": "python",
   "nbconvert_exporter": "python",
   "pygments_lexer": "ipython3",
   "version": "3.6.15"
  },
  "orig_nbformat": 4
 },
 "nbformat": 4,
 "nbformat_minor": 2
}
