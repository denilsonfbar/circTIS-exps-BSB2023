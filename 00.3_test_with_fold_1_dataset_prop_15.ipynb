{
 "cells": [
  {
   "cell_type": "code",
   "execution_count": 1,
   "metadata": {},
   "outputs": [],
   "source": [
    "import pandas as pd\n",
    "from time import time\n",
    "import datetime as dt\n",
    "import libcirctis\n",
    "\n",
    "train_samples_file = 'datasets/cross_validation/fold_1/train/samples.tsv'\n",
    "test_samples_file =  'datasets/cross_validation/fold_1/validation/samples.tsv'\n",
    "\n",
    "parameters = {}\n",
    "parameters['kernel'] = 'WD'\n",
    "parameters['fold'] = 0\n",
    "\n",
    "parameters['up_sample_size'] = 100\n",
    "parameters['down_sample_size'] = 103\n",
    "parameters['degree'] = parameters['up_sample_size'] + parameters['down_sample_size']\n",
    "parameters['C1'] = 1.0\n",
    "parameters['C2'] = 1.0\n",
    "\n",
    "pd.set_option('display.max_columns', None)"
   ]
  },
  {
   "cell_type": "code",
   "execution_count": 2,
   "metadata": {},
   "outputs": [
    {
     "data": {
      "text/plain": [
       "(285165, 7)"
      ]
     },
     "execution_count": 2,
     "metadata": {},
     "output_type": "execute_result"
    }
   ],
   "source": [
    "df_samples_train_all = pd.read_csv(train_samples_file, sep='\\t', header=0)\n",
    "df_samples_train_all.shape"
   ]
  },
  {
   "cell_type": "code",
   "execution_count": 3,
   "metadata": {},
   "outputs": [
    {
     "data": {
      "text/plain": [
       "(67154, 7)"
      ]
     },
     "execution_count": 3,
     "metadata": {},
     "output_type": "execute_result"
    }
   ],
   "source": [
    "df_samples_test_all = pd.read_csv(test_samples_file, sep='\\t', header=0)\n",
    "df_samples_test_all.shape"
   ]
  },
  {
   "cell_type": "code",
   "execution_count": null,
   "metadata": {},
   "outputs": [],
   "source": []
  },
  {
   "cell_type": "code",
   "execution_count": 4,
   "metadata": {},
   "outputs": [
    {
     "data": {
      "text/plain": [
       "(994, 7)"
      ]
     },
     "execution_count": 4,
     "metadata": {},
     "output_type": "execute_result"
    }
   ],
   "source": [
    "df_samples_pos_test = df_samples_test_all.loc[(df_samples_test_all['sample_label'] == 1)]\n",
    "df_samples_pos_test.shape"
   ]
  },
  {
   "cell_type": "code",
   "execution_count": 5,
   "metadata": {},
   "outputs": [
    {
     "data": {
      "text/plain": [
       "(66160, 7)"
      ]
     },
     "execution_count": 5,
     "metadata": {},
     "output_type": "execute_result"
    }
   ],
   "source": [
    "df_samples_neg_test = df_samples_test_all.loc[(df_samples_test_all['sample_label'] == -1)]\n",
    "df_samples_neg_test.shape"
   ]
  },
  {
   "cell_type": "code",
   "execution_count": 6,
   "metadata": {},
   "outputs": [
    {
     "data": {
      "text/plain": [
       "66.55935613682092"
      ]
     },
     "execution_count": 6,
     "metadata": {},
     "output_type": "execute_result"
    }
   ],
   "source": [
    "df_samples_neg_test.shape[0] / df_samples_pos_test.shape[0]"
   ]
  },
  {
   "cell_type": "code",
   "execution_count": 7,
   "metadata": {},
   "outputs": [
    {
     "data": {
      "text/plain": [
       "(14910, 7)"
      ]
     },
     "execution_count": 7,
     "metadata": {},
     "output_type": "execute_result"
    }
   ],
   "source": [
    "df_samples_neg_test = df_samples_neg_test.sample(frac=1, random_state = 721379)\n",
    "df_samples_neg_test = df_samples_neg_test.head(df_samples_pos_test.shape[0] * 15)\n",
    "df_samples_neg_test.shape"
   ]
  },
  {
   "cell_type": "code",
   "execution_count": 8,
   "metadata": {},
   "outputs": [
    {
     "data": {
      "text/plain": [
       "15.0"
      ]
     },
     "execution_count": 8,
     "metadata": {},
     "output_type": "execute_result"
    }
   ],
   "source": [
    "df_samples_neg_test.shape[0] / df_samples_pos_test.shape[0]"
   ]
  },
  {
   "cell_type": "code",
   "execution_count": null,
   "metadata": {},
   "outputs": [],
   "source": []
  },
  {
   "cell_type": "code",
   "execution_count": 9,
   "metadata": {},
   "outputs": [
    {
     "data": {
      "text/plain": [
       "(3824, 7)"
      ]
     },
     "execution_count": 9,
     "metadata": {},
     "output_type": "execute_result"
    }
   ],
   "source": [
    "df_samples_pos_train = df_samples_train_all.loc[(df_samples_train_all['sample_label'] == 1)]\n",
    "df_samples_pos_train.shape"
   ]
  },
  {
   "cell_type": "code",
   "execution_count": 10,
   "metadata": {},
   "outputs": [
    {
     "data": {
      "text/plain": [
       "(281341, 7)"
      ]
     },
     "execution_count": 10,
     "metadata": {},
     "output_type": "execute_result"
    }
   ],
   "source": [
    "df_samples_neg_train = df_samples_train_all.loc[(df_samples_train_all['sample_label'] == -1)]\n",
    "df_samples_neg_train.shape"
   ]
  },
  {
   "cell_type": "code",
   "execution_count": 11,
   "metadata": {},
   "outputs": [
    {
     "data": {
      "text/plain": [
       "(3824, 7)"
      ]
     },
     "execution_count": 11,
     "metadata": {},
     "output_type": "execute_result"
    }
   ],
   "source": [
    "df_samples_neg_train = df_samples_neg_train.sample(frac=1, random_state = 721379)\n",
    "df_samples_neg_train = df_samples_neg_train.head(df_samples_pos_train.shape[0])\n",
    "df_samples_neg_train.shape"
   ]
  },
  {
   "cell_type": "code",
   "execution_count": null,
   "metadata": {},
   "outputs": [],
   "source": []
  },
  {
   "cell_type": "code",
   "execution_count": 12,
   "metadata": {},
   "outputs": [
    {
     "data": {
      "text/plain": [
       "(7648, 7)"
      ]
     },
     "execution_count": 12,
     "metadata": {},
     "output_type": "execute_result"
    }
   ],
   "source": [
    "df_samples_train = pd.concat([df_samples_pos_train, df_samples_neg_train])\n",
    "df_samples_train.shape"
   ]
  },
  {
   "cell_type": "code",
   "execution_count": 13,
   "metadata": {},
   "outputs": [
    {
     "data": {
      "text/plain": [
       "(15904, 7)"
      ]
     },
     "execution_count": 13,
     "metadata": {},
     "output_type": "execute_result"
    }
   ],
   "source": [
    "df_samples_test = pd.concat([df_samples_pos_test, df_samples_neg_test])\n",
    "df_samples_test.shape"
   ]
  },
  {
   "cell_type": "code",
   "execution_count": null,
   "metadata": {},
   "outputs": [],
   "source": []
  },
  {
   "cell_type": "code",
   "execution_count": 14,
   "metadata": {},
   "outputs": [
    {
     "name": "stdout",
     "output_type": "stream",
     "text": [
      "\n",
      "2023-05-28 23:46:40\t100\t103\t203\t1.0\t0\n",
      "Train time: 289.907 secs\n",
      "Prediction time: 6.642 secs\n"
     ]
    },
    {
     "data": {
      "text/html": [
       "<div>\n",
       "<style scoped>\n",
       "    .dataframe tbody tr th:only-of-type {\n",
       "        vertical-align: middle;\n",
       "    }\n",
       "\n",
       "    .dataframe tbody tr th {\n",
       "        vertical-align: top;\n",
       "    }\n",
       "\n",
       "    .dataframe thead th {\n",
       "        text-align: right;\n",
       "    }\n",
       "</style>\n",
       "<table border=\"1\" class=\"dataframe\">\n",
       "  <thead>\n",
       "    <tr style=\"text-align: right;\">\n",
       "      <th></th>\n",
       "      <th>fold</th>\n",
       "      <th>up_size</th>\n",
       "      <th>down_size</th>\n",
       "      <th>degree</th>\n",
       "      <th>C1</th>\n",
       "      <th>C2</th>\n",
       "      <th>kernel</th>\n",
       "      <th>TP</th>\n",
       "      <th>FP</th>\n",
       "      <th>FN</th>\n",
       "      <th>TN</th>\n",
       "      <th>F1-score</th>\n",
       "      <th>AUPR</th>\n",
       "      <th>Precision</th>\n",
       "      <th>Recall</th>\n",
       "      <th>Specificity</th>\n",
       "      <th>Accuracy</th>\n",
       "      <th>AUROC</th>\n",
       "      <th>n_train</th>\n",
       "      <th>n_train_pos</th>\n",
       "      <th>n_train_neg</th>\n",
       "      <th>n_test</th>\n",
       "      <th>n_test_pos</th>\n",
       "      <th>n_test_neg</th>\n",
       "      <th>sample_size</th>\n",
       "      <th>train_time</th>\n",
       "      <th>pred_time</th>\n",
       "    </tr>\n",
       "  </thead>\n",
       "  <tbody>\n",
       "    <tr>\n",
       "      <th>0</th>\n",
       "      <td>0</td>\n",
       "      <td>100</td>\n",
       "      <td>103</td>\n",
       "      <td>203</td>\n",
       "      <td>1.0</td>\n",
       "      <td>1.0</td>\n",
       "      <td>WD</td>\n",
       "      <td>881</td>\n",
       "      <td>144</td>\n",
       "      <td>113</td>\n",
       "      <td>14766</td>\n",
       "      <td>0.872709</td>\n",
       "      <td>0.93392</td>\n",
       "      <td>0.859512</td>\n",
       "      <td>0.886318</td>\n",
       "      <td>0.990342</td>\n",
       "      <td>0.983841</td>\n",
       "      <td>0.986446</td>\n",
       "      <td>7648</td>\n",
       "      <td>3824</td>\n",
       "      <td>3824</td>\n",
       "      <td>15904</td>\n",
       "      <td>994</td>\n",
       "      <td>14910</td>\n",
       "      <td>203</td>\n",
       "      <td>289.907032</td>\n",
       "      <td>6.642198</td>\n",
       "    </tr>\n",
       "  </tbody>\n",
       "</table>\n",
       "</div>"
      ],
      "text/plain": [
       "  fold up_size down_size degree   C1   C2 kernel   TP   FP   FN     TN  \\\n",
       "0    0     100       103    203  1.0  1.0     WD  881  144  113  14766   \n",
       "\n",
       "   F1-score     AUPR  Precision    Recall  Specificity  Accuracy     AUROC  \\\n",
       "0  0.872709  0.93392   0.859512  0.886318     0.990342  0.983841  0.986446   \n",
       "\n",
       "  n_train n_train_pos n_train_neg n_test n_test_pos n_test_neg sample_size  \\\n",
       "0    7648        3824        3824  15904        994      14910         203   \n",
       "\n",
       "   train_time  pred_time  \n",
       "0  289.907032   6.642198  "
      ]
     },
     "execution_count": 14,
     "metadata": {},
     "output_type": "execute_result"
    }
   ],
   "source": [
    "df_eval = libcirctis.create_df_evaluation()\n",
    "\n",
    "start_t = time()\n",
    "\n",
    "print('\\n' + dt.datetime.now().strftime(\"%Y-%m-%d %H:%M:%S\") + '\\t' + str(parameters['up_sample_size']) + '\\t' \n",
    "        + str(parameters['down_sample_size']) + '\\t' + str(parameters['degree']) + '\\t' + str(parameters['C1'])\n",
    "        + '\\t' + str(parameters['fold']))\n",
    "\n",
    "X_train, y_train, X_test, y_test, samples_info = libcirctis.prepare_exp_data(parameters, df_samples_train, df_samples_test)\n",
    "\n",
    "svm = libcirctis.train_svm (parameters, X_train, y_train)\n",
    "\n",
    "train_t = time()\n",
    "train_time = train_t - start_t\n",
    "print(f'Train time: {train_time:.3f} secs')\n",
    "\n",
    "y_pred_labels, y_pred_scores = libcirctis.svm_predict(svm, X_test)\n",
    "\n",
    "pred_time = time() - train_t\n",
    "print(f'Prediction time: {pred_time:.3f} secs')\n",
    "\n",
    "times = {}\n",
    "times['train_time'] = train_time\n",
    "times['pred_time'] = pred_time\n",
    "\n",
    "metrics = {}\n",
    "metrics = libcirctis.calc_metrics_labels(metrics, y_test, y_pred_labels)\n",
    "metrics = libcirctis.calc_metrics_scores(metrics, y_test, y_pred_scores)\n",
    "\n",
    "libcirctis.add_result_in_df_evaluation(df_eval, parameters, samples_info, times, metrics)"
   ]
  }
 ],
 "metadata": {
  "kernelspec": {
   "display_name": "circtis_dev",
   "language": "python",
   "name": "python3"
  },
  "language_info": {
   "codemirror_mode": {
    "name": "ipython",
    "version": 3
   },
   "file_extension": ".py",
   "mimetype": "text/x-python",
   "name": "python",
   "nbconvert_exporter": "python",
   "pygments_lexer": "ipython3",
   "version": "3.6.15"
  },
  "orig_nbformat": 4
 },
 "nbformat": 4,
 "nbformat_minor": 2
}
