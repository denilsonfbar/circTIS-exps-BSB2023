{
 "cells": [
  {
   "cell_type": "code",
   "execution_count": null,
   "metadata": {},
   "outputs": [],
   "source": [
    "import pandas as pd"
   ]
  },
  {
   "cell_type": "code",
   "execution_count": null,
   "metadata": {},
   "outputs": [],
   "source": [
    "circTIS_eval_file_atg = 'outputs/circTIS_samples_eval_ATG.tsv'\n",
    "circTIS_eval_file_nc = 'outputs/circTIS_samples_eval_NC.tsv'\n",
    "\n",
    "TITER_eval_file_atg = 'outputs/TITER_samples_eval_ATG.tsv'\n",
    "TITER_eval_file_nc = 'outputs/TITER_samples_eval_NC.tsv'\n",
    "\n",
    "TIS_Predictor_eval_file_atg = 'outputs/TIS_Predictor_samples_eval_ATG.tsv'\n",
    "TIS_Predictor_eval_file_nc = 'outputs/TIS_Predictor_samples_eval_NC.tsv'\n",
    "\n",
    "TIS_Transformer_eval_file_atg = 'outputs/TIS_Transformer_samples_eval_ATG.tsv'\n",
    "TIS_Transformer_eval_file_nc = 'outputs/TIS_Transformer_samples_eval_NC.tsv'"
   ]
  },
  {
   "cell_type": "code",
   "execution_count": null,
   "metadata": {},
   "outputs": [],
   "source": [
    "df_circTIS_atg = pd.read_csv(circTIS_eval_file_atg, sep='\\t', header=0)\n",
    "df_circTIS_atg"
   ]
  },
  {
   "cell_type": "code",
   "execution_count": null,
   "metadata": {},
   "outputs": [],
   "source": [
    "df_TITER_atg = pd.read_csv(circTIS_eval_file_atg, sep='\\t', header=0)\n",
    "df_TITER_atg"
   ]
  },
  {
   "cell_type": "code",
   "execution_count": null,
   "metadata": {},
   "outputs": [],
   "source": [
    "df_TIS_Predictor_atg = pd.read_csv(TIS_Predictor_eval_file_atg, sep='\\t', header=0)\n",
    "df_TIS_Predictor_atg"
   ]
  },
  {
   "cell_type": "code",
   "execution_count": null,
   "metadata": {},
   "outputs": [],
   "source": []
  },
  {
   "cell_type": "code",
   "execution_count": null,
   "metadata": {},
   "outputs": [],
   "source": [
    "\n",
    "ls_arr_pred_scores = []\n",
    "\n"
   ]
  }
 ],
 "metadata": {
  "language_info": {
   "name": "python"
  },
  "orig_nbformat": 4
 },
 "nbformat": 4,
 "nbformat_minor": 2
}
