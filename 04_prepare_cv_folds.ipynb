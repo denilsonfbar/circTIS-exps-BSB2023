{
 "cells": [
  {
   "cell_type": "code",
   "execution_count": 3,
   "metadata": {},
   "outputs": [],
   "source": [
    "import os\n",
    "import shutil\n",
    "import libcirctis\n",
    "\n",
    "n_folds = 5\n",
    "\n",
    "# Inputs\n",
    "input_path = 'datasets/splits/'\n",
    "\n",
    "# Outputs\n",
    "output_path = 'datasets/cross_validation/'\n",
    "os.mkdir(output_path)"
   ]
  },
  {
   "cell_type": "code",
   "execution_count": 4,
   "metadata": {},
   "outputs": [],
   "source": [
    "for i in range(1, n_folds+1):\n",
    "\n",
    "    id_valid = i\n",
    "    ids_train = list(range(1,n_folds+1))\n",
    "    ids_train.remove(id_valid)\n",
    "\n",
    "    fold_path = output_path + 'fold_' + str(i) + '/'\n",
    "    os.mkdir(fold_path)\n",
    "\n",
    "    fold_valid_path = fold_path + 'validation/'\n",
    "    os.mkdir(fold_valid_path)\n",
    "\n",
    "    shutil.copy(input_path + str(id_valid) + '/seqs.fa', fold_valid_path + 'seqs.fa')\n",
    "    shutil.copy(input_path + str(id_valid) + '/tis.tsv', fold_valid_path + 'tis.tsv')\n",
    "\n",
    "    train_fasta_files = []\n",
    "    train_tsv_files = []\n",
    "    for id in ids_train:\n",
    "        train_fasta_files.append(input_path + str(id) + '/seqs.fa')\n",
    "        train_tsv_files.append(input_path + str(id) + '/tis.tsv')\n",
    "\n",
    "    fold_train_path = fold_path + 'train/'\n",
    "    os.mkdir(fold_train_path)\n",
    "\n",
    "    output_fasta_file = fold_train_path + 'seqs.fa'\n",
    "    output_tsv_file = fold_train_path + 'tis.tsv'\n",
    "\n",
    "    libcirctis.merge_fasta_files(train_fasta_files, output_fasta_file)\n",
    "    libcirctis.merge_tsv_files(train_tsv_files, output_tsv_file)"
   ]
  }
 ],
 "metadata": {
  "kernelspec": {
   "display_name": "circtis_dev",
   "language": "python",
   "name": "python3"
  },
  "language_info": {
   "codemirror_mode": {
    "name": "ipython",
    "version": 3
   },
   "file_extension": ".py",
   "mimetype": "text/x-python",
   "name": "python",
   "nbconvert_exporter": "python",
   "pygments_lexer": "ipython3",
   "version": "3.6.15"
  },
  "orig_nbformat": 4
 },
 "nbformat": 4,
 "nbformat_minor": 2
}
