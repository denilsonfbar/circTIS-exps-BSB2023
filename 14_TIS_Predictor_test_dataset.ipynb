{
 "cells": [
  {
   "cell_type": "code",
   "execution_count": 7,
   "metadata": {},
   "outputs": [],
   "source": [
    "import numpy as np\n",
    "import pandas as pd\n",
    "from time import time\n",
    "import pickle\n",
    "\n",
    "test_dataset_samples_file = 'datasets/splits/test/samples.tsv'\n",
    "\n",
    "output_samples_eval_file_atg = 'outputs/TIS_Predictor_samples_eval_ATG.tsv'\n",
    "output_samples_eval_file_nc = 'outputs/TIS_Predictor_samples_eval_NC.tsv'"
   ]
  },
  {
   "cell_type": "code",
   "execution_count": 8,
   "metadata": {},
   "outputs": [],
   "source": [
    "upstream_size = 10\n",
    "downstream_size = 13\n",
    "\n",
    "df_samples = pd.read_csv(test_dataset_samples_file, sep='\\t', header=0)\n",
    "\n",
    "\n",
    "def decrease_length_samples(samples, upstream_size, downstream_size):\n",
    "\n",
    "    tis_start_idx = 100\n",
    "\n",
    "    up_first_idx = tis_start_idx - upstream_size\n",
    "    down_last_idx = tis_start_idx + downstream_size\n",
    "\n",
    "    trans_samples = []\n",
    "    for sample in samples:\n",
    "        new_sample = sample[up_first_idx:tis_start_idx] + sample[tis_start_idx:down_last_idx]\n",
    "        trans_samples.append(new_sample)\n",
    "\n",
    "    return trans_samples\n",
    "\n",
    "\n",
    "def TIS_Predictor_encoding(samples):\n",
    "\n",
    "    coded_samples = []\n",
    "    \n",
    "    for sample in samples:\n",
    "\n",
    "        coded_sample = []\n",
    "        for symbol in sample:\n",
    "            if   symbol == 'A': cod_symbol = [1,0,0,0,0]\n",
    "            elif symbol == 'C': cod_symbol = [0,1,0,0,0]\n",
    "            elif symbol == 'G': cod_symbol = [0,0,1,0,0]\n",
    "            elif symbol == 'T': cod_symbol = [0,0,0,0,1]\n",
    "            else:               cod_symbol = [0,0,0,1,0]\n",
    "\n",
    "            coded_sample += cod_symbol\n",
    "        \n",
    "        coded_samples.append(np.array(coded_sample))\n",
    "\n",
    "    return coded_samples"
   ]
  },
  {
   "attachments": {},
   "cell_type": "markdown",
   "metadata": {},
   "source": [
    "### ATG prediction"
   ]
  },
  {
   "cell_type": "code",
   "execution_count": 9,
   "metadata": {},
   "outputs": [
    {
     "data": {
      "text/plain": [
       "(19303, 7)"
      ]
     },
     "execution_count": 9,
     "metadata": {},
     "output_type": "execute_result"
    }
   ],
   "source": [
    "df_samples_atg = df_samples[df_samples['TIS_type'] == 'ATG'].copy()\n",
    "df_samples_atg.shape"
   ]
  },
  {
   "cell_type": "code",
   "execution_count": 10,
   "metadata": {},
   "outputs": [],
   "source": [
    "X_test = df_samples_atg['sample_na'].tolist()\n",
    "X_test = decrease_length_samples(X_test, upstream_size, downstream_size)\n",
    "X_test = TIS_Predictor_encoding(X_test)\n",
    "\n",
    "y_test = np.array(df_samples_atg['sample_label'])"
   ]
  },
  {
   "cell_type": "code",
   "execution_count": 5,
   "metadata": {},
   "outputs": [
    {
     "name": "stderr",
     "output_type": "stream",
     "text": [
      "/home/denilson/anaconda3/envs/tispredictorvenv/lib/python3.10/site-packages/sklearn/base.py:288: UserWarning: Trying to unpickle estimator DecisionTreeClassifier from version 0.24.2 when using version 1.2.0. This might lead to breaking code or invalid results. Use at your own risk. For more info please refer to:\n",
      "https://scikit-learn.org/stable/model_persistence.html#security-maintainability-limitations\n",
      "  warnings.warn(\n"
     ]
    },
    {
     "data": {
      "text/plain": [
       "2078.3097007274628"
      ]
     },
     "execution_count": 5,
     "metadata": {},
     "output_type": "execute_result"
    }
   ],
   "source": [
    "model_file = 'TIS_Predictor/atg_rfc.sav'  # model for ATG start codons\n",
    "\n",
    "start_time = time()\n",
    "\n",
    "rfc = pickle.load(open(model_file, 'rb'))\n",
    "\n",
    "y_pred_labels = []\n",
    "y_pred_scores = []\n",
    "\n",
    "for i in range(len(X_test)):\n",
    "    y_pred_labels = np.append(y_pred_labels, rfc.predict(X_test[i].reshape(1,-1)))\n",
    "    y_pred_scores = np.append(y_pred_scores, rfc.predict_proba(X_test[i].reshape(1,-1))[:,1])\n",
    "\n",
    "y_pred_labels = np.where(y_pred_labels == 0, -1, y_pred_labels)  # change labels 0 to -1\n",
    "\n",
    "end_time = time()\n",
    "pred_time = end_time - start_time\n",
    "pred_time"
   ]
  },
  {
   "cell_type": "code",
   "execution_count": 11,
   "metadata": {},
   "outputs": [],
   "source": [
    "df_samples_atg['TIS_predictor_real_label'] = y_test\n",
    "df_samples_atg['TIS_predictor_pred_label'] = y_pred_labels\n",
    "df_samples_atg['TIS_predictor_score'] = y_pred_scores\n",
    "\n",
    "df_samples_atg.to_csv(output_samples_eval_file_atg, sep='\\t', index=False)"
   ]
  },
  {
   "attachments": {},
   "cell_type": "markdown",
   "metadata": {},
   "source": [
    "### Near-cognate prediction"
   ]
  },
  {
   "cell_type": "code",
   "execution_count": 12,
   "metadata": {},
   "outputs": [
    {
     "data": {
      "text/plain": [
       "(52880, 7)"
      ]
     },
     "execution_count": 12,
     "metadata": {},
     "output_type": "execute_result"
    }
   ],
   "source": [
    "df_samples_nc = df_samples[df_samples['TIS_type'] != 'ATG'].copy()\n",
    "df_samples_nc.shape"
   ]
  },
  {
   "cell_type": "code",
   "execution_count": 13,
   "metadata": {},
   "outputs": [],
   "source": [
    "X_test = df_samples_nc['sample_na'].tolist()\n",
    "X_test = decrease_length_samples(X_test, upstream_size, downstream_size)\n",
    "X_test = TIS_Predictor_encoding(X_test)\n",
    "\n",
    "y_test = np.array(df_samples_nc['sample_label'])"
   ]
  },
  {
   "cell_type": "code",
   "execution_count": 14,
   "metadata": {},
   "outputs": [
    {
     "name": "stderr",
     "output_type": "stream",
     "text": [
      "/home/denilson/anaconda3/envs/tispredictorvenv/lib/python3.10/site-packages/sklearn/base.py:288: UserWarning: Trying to unpickle estimator DecisionTreeClassifier from version 0.24.2 when using version 1.2.0. This might lead to breaking code or invalid results. Use at your own risk. For more info please refer to:\n",
      "https://scikit-learn.org/stable/model_persistence.html#security-maintainability-limitations\n",
      "  warnings.warn(\n"
     ]
    },
    {
     "data": {
      "text/plain": [
       "5771.190366268158"
      ]
     },
     "execution_count": 14,
     "metadata": {},
     "output_type": "execute_result"
    }
   ],
   "source": [
    "model_file = 'TIS_Predictor/near-cognate_rfc.sav'  # model for near cognates start codons\n",
    "\n",
    "start_time = time()\n",
    "\n",
    "rfc = pickle.load(open(model_file, 'rb'))\n",
    "\n",
    "y_pred_labels = []\n",
    "y_pred_scores = []\n",
    "\n",
    "for i in range(len(X_test)):\n",
    "    y_pred_labels = np.append(y_pred_labels, rfc.predict(X_test[i].reshape(1,-1)))\n",
    "    y_pred_scores = np.append(y_pred_scores, rfc.predict_proba(X_test[i].reshape(1,-1))[:,1])\n",
    "\n",
    "y_pred_labels = np.where(y_pred_labels == 0, -1, y_pred_labels)  # change labels 0 to -1\n",
    "\n",
    "end_time = time()\n",
    "pred_time = end_time - start_time\n",
    "pred_time"
   ]
  },
  {
   "cell_type": "code",
   "execution_count": 15,
   "metadata": {},
   "outputs": [],
   "source": [
    "df_samples_nc['TIS_predictor_real_label'] = y_test\n",
    "df_samples_nc['TIS_predictor_pred_label'] = y_pred_labels\n",
    "df_samples_nc['TIS_predictor_score'] = y_pred_scores\n",
    "\n",
    "df_samples_nc.to_csv(output_samples_eval_file_nc, sep='\\t', index=False)"
   ]
  }
 ],
 "metadata": {
  "kernelspec": {
   "display_name": "tispredictorvenv",
   "language": "python",
   "name": "python3"
  },
  "language_info": {
   "codemirror_mode": {
    "name": "ipython",
    "version": 3
   },
   "file_extension": ".py",
   "mimetype": "text/x-python",
   "name": "python",
   "nbconvert_exporter": "python",
   "pygments_lexer": "ipython3",
   "version": "3.10.9"
  },
  "orig_nbformat": 4
 },
 "nbformat": 4,
 "nbformat_minor": 2
}
