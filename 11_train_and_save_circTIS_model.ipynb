{
 "cells": [
  {
   "cell_type": "code",
   "execution_count": null,
   "metadata": {},
   "outputs": [],
   "source": [
    "import pandas as pd\n",
    "from time import time\n",
    "import pickle\n",
    "import libcirctis\n",
    "\n",
    "output_model_file = 'circTIS_model/circTIS_model_v1.pkl'"
   ]
  },
  {
   "cell_type": "code",
   "execution_count": null,
   "metadata": {},
   "outputs": [],
   "source": [
    "parameters = {}\n",
    "parameters['kernel'] = 'WD'\n",
    "\n",
    "parameters['up_sample_size'] = 240\n",
    "parameters['down_sample_size'] = 36\n",
    "parameters['degree'] = parameters['up_sample_size'] + parameters['down_sample_size']\n",
    "parameters['C1'] = parameters['C2'] = 1.0"
   ]
  },
  {
   "cell_type": "code",
   "execution_count": null,
   "metadata": {},
   "outputs": [],
   "source": [
    "# Loading training data\n",
    "train_samples_file_1 = 'datasets/cross_validation/fold_1/train/samples.tsv'\n",
    "train_samples_file_2 = 'datasets/cross_validation/fold_1/validation/samples.tsv'\n",
    "\n",
    "df_samples_train_1 = pd.read_csv(train_samples_file_1, sep='\\t', header=0)\n",
    "df_samples_train_2 = pd.read_csv(train_samples_file_2, sep='\\t', header=0)\n",
    "df_samples_train_all = pd.concat([df_samples_train_1, df_samples_train_2])\n",
    "df_samples_train_all.shape"
   ]
  },
  {
   "cell_type": "code",
   "execution_count": null,
   "metadata": {},
   "outputs": [],
   "source": [
    "# Balancing training data\n",
    "df_samples_pos_train = df_samples_train_all.loc[(df_samples_train_all['sample_label'] == 1)]\n",
    "df_samples_neg_train = df_samples_train_all.loc[(df_samples_train_all['sample_label'] == -1)]\n",
    "df_samples_neg_train = df_samples_neg_train.sample(frac=1, random_state=721379)\n",
    "df_samples_neg_train = df_samples_neg_train.head(df_samples_pos_train.shape[0])\n",
    "df_samples_train = pd.concat([df_samples_pos_train, df_samples_neg_train])"
   ]
  },
  {
   "cell_type": "code",
   "execution_count": null,
   "metadata": {},
   "outputs": [],
   "source": [
    "X_train, y_train = libcirctis.prepare_train_data(parameters, df_samples_train)\n",
    "\n",
    "start_t = time()\n",
    "\n",
    "svm = libcirctis.train_svm (parameters, X_train, y_train)\n",
    "\n",
    "train_t = time()\n",
    "train_time = train_t - start_t\n",
    "print(f'Train time: {train_time:.3f} secs')"
   ]
  },
  {
   "cell_type": "code",
   "execution_count": null,
   "metadata": {},
   "outputs": [],
   "source": [
    "# Saving model\n",
    "with open(output_model_file, \"wb\") as f:\n",
    "    pickle.dump(svm, f)"
   ]
  }
 ],
 "metadata": {
  "language_info": {
   "name": "python"
  },
  "orig_nbformat": 4
 },
 "nbformat": 4,
 "nbformat_minor": 2
}
