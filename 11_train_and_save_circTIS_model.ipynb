{
 "cells": [
  {
   "cell_type": "code",
   "execution_count": 1,
   "metadata": {},
   "outputs": [],
   "source": [
    "import pandas as pd\n",
    "from time import time\n",
    "import pickle\n",
    "import libcirctis\n",
    "\n",
    "output_model_file = 'circTIS_model/circTIS_model_v1.pkl'"
   ]
  },
  {
   "cell_type": "code",
   "execution_count": 2,
   "metadata": {},
   "outputs": [],
   "source": [
    "parameters = {}\n",
    "parameters['kernel'] = 'WD'\n",
    "\n",
    "parameters['up_sample_size'] = 40\n",
    "parameters['down_sample_size'] = 287\n",
    "parameters['degree'] = parameters['up_sample_size'] + parameters['down_sample_size']\n",
    "parameters['C1'] = parameters['C2'] = 1.55"
   ]
  },
  {
   "cell_type": "code",
   "execution_count": 3,
   "metadata": {},
   "outputs": [
    {
     "data": {
      "text/plain": [
       "(352319, 7)"
      ]
     },
     "execution_count": 3,
     "metadata": {},
     "output_type": "execute_result"
    }
   ],
   "source": [
    "# Loading training data\n",
    "train_samples_file_1 = 'datasets/cross_validation/fold_1/train/samples.tsv'\n",
    "train_samples_file_2 = 'datasets/cross_validation/fold_1/validation/samples.tsv'\n",
    "\n",
    "df_samples_train_1 = pd.read_csv(train_samples_file_1, sep='\\t', header=0)\n",
    "df_samples_train_2 = pd.read_csv(train_samples_file_2, sep='\\t', header=0)\n",
    "df_samples_train_all = pd.concat([df_samples_train_1, df_samples_train_2])\n",
    "df_samples_train_all.shape"
   ]
  },
  {
   "cell_type": "code",
   "execution_count": 4,
   "metadata": {},
   "outputs": [],
   "source": [
    "# Balancing training data\n",
    "df_samples_pos_train = df_samples_train_all.loc[(df_samples_train_all['sample_label'] == 1)]\n",
    "df_samples_neg_train = df_samples_train_all.loc[(df_samples_train_all['sample_label'] == -1)]\n",
    "df_samples_neg_train = df_samples_neg_train.sample(frac=1, random_state=721379)\n",
    "df_samples_neg_train = df_samples_neg_train.head(df_samples_pos_train.shape[0])\n",
    "df_samples_train = pd.concat([df_samples_pos_train, df_samples_neg_train])"
   ]
  },
  {
   "cell_type": "code",
   "execution_count": 5,
   "metadata": {},
   "outputs": [
    {
     "name": "stdout",
     "output_type": "stream",
     "text": [
      "Train time: 94.022 secs\n"
     ]
    }
   ],
   "source": [
    "X_train, y_train = libcirctis.prepare_train_data(parameters, df_samples_train)\n",
    "\n",
    "start_t = time()\n",
    "\n",
    "svm = libcirctis.train_svm (parameters, X_train, y_train)\n",
    "\n",
    "train_t = time()\n",
    "train_time = train_t - start_t\n",
    "print(f'Train time: {train_time:.3f} secs')"
   ]
  },
  {
   "cell_type": "code",
   "execution_count": 6,
   "metadata": {},
   "outputs": [],
   "source": [
    "# Saving model\n",
    "with open(output_model_file, \"wb\") as f:\n",
    "    pickle.dump(svm, f)"
   ]
  }
 ],
 "metadata": {
  "kernelspec": {
   "display_name": "circtis_dev",
   "language": "python",
   "name": "python3"
  },
  "language_info": {
   "codemirror_mode": {
    "name": "ipython",
    "version": 3
   },
   "file_extension": ".py",
   "mimetype": "text/x-python",
   "name": "python",
   "nbconvert_exporter": "python",
   "pygments_lexer": "ipython3",
   "version": "3.6.15"
  },
  "orig_nbformat": 4
 },
 "nbformat": 4,
 "nbformat_minor": 2
}
