{
 "cells": [
  {
   "cell_type": "code",
   "execution_count": 1,
   "metadata": {},
   "outputs": [],
   "source": [
    "import pandas as pd\n",
    "from time import time\n",
    "from Bio import SeqIO\n",
    "import pickle\n",
    "import shogun as sg\n",
    "\n",
    "test_samples_file = 'datasets/splits/test/samples.tsv'\n",
    "\n",
    "model_file = 'circTIS_model/circTIS_model_v1.pkl'\n",
    "\n",
    "upstream_size = 36\n",
    "downstream_size = 240"
   ]
  },
  {
   "cell_type": "code",
   "execution_count": 2,
   "metadata": {},
   "outputs": [],
   "source": [
    "# Extract a subsequence around a TIS from circRNA, according length windows. \n",
    "# If necessary, loops through the circRNA to complete total sample length.\n",
    "def extract_circrna_subseq_around_position(circrna_seq, length_window_left, length_window_right, TIS_start_position_zi):\n",
    "\n",
    "    up_subseq = circrna_seq[:TIS_start_position_zi]\n",
    "    down_subseq = circrna_seq[TIS_start_position_zi:]\n",
    "\n",
    "    window_left = up_subseq\n",
    "    while len(window_left) < length_window_left:\n",
    "        window_left = circrna_seq + window_left\n",
    "    window_left = window_left[-length_window_left:]\n",
    "\n",
    "    window_right = down_subseq\n",
    "    while len(window_right) < length_window_right:\n",
    "        window_right = window_right + circrna_seq\n",
    "    window_right = window_right[:length_window_right]\n",
    "\n",
    "    full_window = window_left + window_right\n",
    "\n",
    "    return full_window\n",
    "\n",
    "def extract_samples(fasta_file_path, tis_types):\n",
    "\n",
    "    df_samples = pd.DataFrame(columns=['circRNA_id', 'TIS_type', 'position'])\n",
    "    samples = []\n",
    "    n_seqs = 0\n",
    "\n",
    "    with open(fasta_file_path) as handle:\n",
    "\n",
    "        for record in SeqIO.parse(handle, \"fasta\"):\n",
    "\n",
    "            n_seqs += 1\n",
    "\n",
    "            circrna_id = record.id\n",
    "            circrna_seq = str(record.seq)\n",
    "            circrna_length = len(circrna_seq)\n",
    "\n",
    "            for position_zi in range(circrna_length-3):  # position_zi = position zero indexed\n",
    "                \n",
    "                test_codon = circrna_seq[position_zi:position_zi+3]\n",
    "\n",
    "                if test_codon in tis_types:\n",
    "\n",
    "                    df_samples.loc[df_samples.shape[0]] = [circrna_id, test_codon, position_zi+1]  # index correction\n",
    "                    sample = extract_circrna_subseq_around_position(circrna_seq, upstream_size, downstream_size, position_zi)\n",
    "                    samples.append(sample)\n",
    "\n",
    "    return df_samples, samples, n_seqs"
   ]
  },
  {
   "cell_type": "code",
   "execution_count": 3,
   "metadata": {},
   "outputs": [],
   "source": [
    "df_samples, samples, n_seqs = extract_samples(test_samples_file, ['ATG'])\n",
    "X = samples"
   ]
  },
  {
   "cell_type": "code",
   "execution_count": 4,
   "metadata": {},
   "outputs": [
    {
     "ename": "SystemError",
     "evalue": "\u001b[1;31m[ERROR]\u001b[0m In file /home/conda/feedstock_root/build_artifacts/shogun-cpp_1540034967896/work/src/shogun/kernel/string/WeightedDegreeStringKernel.cpp line 160: All strings in WD kernel must have same length (rhs wrong)!\n",
     "output_type": "error",
     "traceback": [
      "\u001b[0;31m---------------------------------------------------------------------------\u001b[0m",
      "\u001b[0;31mSystemError\u001b[0m                               Traceback (most recent call last)",
      "\u001b[0;32m<ipython-input-4-f3dadcb90d58>\u001b[0m in \u001b[0;36m<module>\u001b[0;34m\u001b[0m\n\u001b[1;32m      9\u001b[0m \u001b[0;34m\u001b[0m\u001b[0m\n\u001b[1;32m     10\u001b[0m \u001b[0;31m# Predicting\u001b[0m\u001b[0;34m\u001b[0m\u001b[0;34m\u001b[0m\u001b[0;34m\u001b[0m\u001b[0m\n\u001b[0;32m---> 11\u001b[0;31m \u001b[0mprediction\u001b[0m \u001b[0;34m=\u001b[0m \u001b[0msvm\u001b[0m\u001b[0;34m.\u001b[0m\u001b[0mapply\u001b[0m\u001b[0;34m(\u001b[0m\u001b[0mX_sg\u001b[0m\u001b[0;34m)\u001b[0m\u001b[0;34m\u001b[0m\u001b[0;34m\u001b[0m\u001b[0m\n\u001b[0m\u001b[1;32m     12\u001b[0m \u001b[0my_pred_labels\u001b[0m \u001b[0;34m=\u001b[0m \u001b[0mprediction\u001b[0m\u001b[0;34m.\u001b[0m\u001b[0mget_labels\u001b[0m\u001b[0;34m(\u001b[0m\u001b[0;34m)\u001b[0m\u001b[0;34m\u001b[0m\u001b[0;34m\u001b[0m\u001b[0m\n\u001b[1;32m     13\u001b[0m \u001b[0my_pred_scores\u001b[0m \u001b[0;34m=\u001b[0m \u001b[0mprediction\u001b[0m\u001b[0;34m.\u001b[0m\u001b[0mget_values\u001b[0m\u001b[0;34m(\u001b[0m\u001b[0;34m)\u001b[0m\u001b[0;34m\u001b[0m\u001b[0;34m\u001b[0m\u001b[0m\n",
      "\u001b[0;31mSystemError\u001b[0m: \u001b[1;31m[ERROR]\u001b[0m In file /home/conda/feedstock_root/build_artifacts/shogun-cpp_1540034967896/work/src/shogun/kernel/string/WeightedDegreeStringKernel.cpp line 160: All strings in WD kernel must have same length (rhs wrong)!\n"
     ]
    }
   ],
   "source": [
    "start_time = time()\n",
    "\n",
    "with open(model_file, \"rb\") as f:\n",
    "    svm = pickle.load(f)\n",
    "\n",
    "# Creating Shogun features objects\n",
    "X_sg = sg.StringCharFeatures(sg.DNA)\n",
    "X_sg.set_features(X)\n",
    "\n",
    "# Predicting\n",
    "prediction = svm.apply(X_sg)\n",
    "y_pred_labels = prediction.get_labels()\n",
    "y_pred_scores = prediction.get_values()\n",
    "\n",
    "# Converting scores to probabilities using the sigmoid function\n",
    "y_pred_probs = 1 / (1 + np.exp(-y_pred_scores))\n",
    "\n",
    "end_time = time()\n",
    "pred_time = end_time - start_time\n",
    "\n",
    "# return y_pred_labels, y_pred_scores, y_pred_probs, pred_time"
   ]
  }
 ],
 "metadata": {
  "kernelspec": {
   "display_name": "circtis_dev",
   "language": "python",
   "name": "python3"
  },
  "language_info": {
   "codemirror_mode": {
    "name": "ipython",
    "version": 3
   },
   "file_extension": ".py",
   "mimetype": "text/x-python",
   "name": "python",
   "nbconvert_exporter": "python",
   "pygments_lexer": "ipython3",
   "version": "3.6.15"
  },
  "orig_nbformat": 4
 },
 "nbformat": 4,
 "nbformat_minor": 2
}
