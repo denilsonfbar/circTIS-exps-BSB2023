{
 "cells": [
  {
   "cell_type": "code",
   "execution_count": 1,
   "metadata": {},
   "outputs": [],
   "source": [
    "import pandas as pd\n",
    "from time import time\n",
    "import config\n",
    "import libcirctis\n",
    "\n",
    "test_dataset_fasta_file = 'datasets/splits/test/seqs.fa'\n",
    "test_dataset_samples_file = 'datasets/splits/test/samples.tsv'\n",
    "\n",
    "output_path_circTIS = 'outputs/circTIS_test_dataset/'\n",
    "output_samples_eval_file_atg = 'outputs/circTIS_samples_eval_ATG.tsv'\n",
    "output_samples_eval_file_nc = 'outputs/circTIS_samples_eval_NC.tsv'"
   ]
  },
  {
   "cell_type": "code",
   "execution_count": 2,
   "metadata": {},
   "outputs": [
    {
     "data": {
      "text/plain": [
       "382.23035311698914"
      ]
     },
     "execution_count": 2,
     "metadata": {},
     "output_type": "execute_result"
    }
   ],
   "source": [
    "tis_types = 'NC1'\n",
    "\n",
    "start_time = time()\n",
    "\n",
    "libcirctis.circtis_extern_execution(config.CIRCTIS_PATH, tis_types, test_dataset_fasta_file, output_path_circTIS)\n",
    "\n",
    "end_time = time()\n",
    "pred_time = end_time - start_time\n",
    "pred_time"
   ]
  },
  {
   "cell_type": "code",
   "execution_count": 3,
   "metadata": {},
   "outputs": [
    {
     "data": {
      "text/plain": [
       "(72183, 5)"
      ]
     },
     "execution_count": 3,
     "metadata": {},
     "output_type": "execute_result"
    }
   ],
   "source": [
    "predictions_file = 'outputs/circTIS_test_dataset/all_possible_TIS.tsv'\n",
    "df_predictions = pd.read_csv(predictions_file, sep='\\t', header=0)\n",
    "df_predictions.shape"
   ]
  },
  {
   "cell_type": "code",
   "execution_count": 4,
   "metadata": {},
   "outputs": [
    {
     "data": {
      "text/plain": [
       "(882, 6)"
      ]
     },
     "execution_count": 4,
     "metadata": {},
     "output_type": "execute_result"
    }
   ],
   "source": [
    "df_predictions['circTIS_label'] = df_predictions['svm_score'].apply(lambda x: 1 if x > 0 else -1)\n",
    "df_predictions[df_predictions['circTIS_label'] == 1].shape"
   ]
  },
  {
   "cell_type": "code",
   "execution_count": 5,
   "metadata": {},
   "outputs": [
    {
     "data": {
      "text/plain": [
       "(72183, 7)"
      ]
     },
     "execution_count": 5,
     "metadata": {},
     "output_type": "execute_result"
    }
   ],
   "source": [
    "df_samples = pd.read_csv(test_dataset_samples_file, sep='\\t', header=0)\n",
    "df_samples.shape"
   ]
  },
  {
   "cell_type": "code",
   "execution_count": 6,
   "metadata": {},
   "outputs": [
    {
     "data": {
      "text/plain": [
       "(72183, 12)"
      ]
     },
     "execution_count": 6,
     "metadata": {},
     "output_type": "execute_result"
    }
   ],
   "source": [
    "df_samples_merge = pd.merge(df_samples, df_predictions, left_on=['circrna_id', 'TIS_position', 'TIS_type'], right_on=['circRNA_id', 'position', 'TIS_type'])\n",
    "df_samples_merge.shape"
   ]
  },
  {
   "cell_type": "code",
   "execution_count": 7,
   "metadata": {},
   "outputs": [
    {
     "data": {
      "text/plain": [
       "(72183, 6)"
      ]
     },
     "execution_count": 7,
     "metadata": {},
     "output_type": "execute_result"
    }
   ],
   "source": [
    "df_samples_eval = df_samples_merge[['circRNA_id', 'TIS_type', 'TIS_position', 'sample_label', 'circTIS_label', 'svm_score']].copy()\n",
    "df_samples_eval.rename(columns={'svm_score': 'circTIS_score'}, inplace=True)\n",
    "df_samples_eval.shape"
   ]
  },
  {
   "cell_type": "code",
   "execution_count": 8,
   "metadata": {},
   "outputs": [
    {
     "data": {
      "text/plain": [
       "(19303, 6)"
      ]
     },
     "execution_count": 8,
     "metadata": {},
     "output_type": "execute_result"
    }
   ],
   "source": [
    "df_samples_eval_atg = df_samples_eval[df_samples_eval['TIS_type'] == 'ATG']\n",
    "df_samples_eval_atg.to_csv(output_samples_eval_file_atg, sep='\\t', index=False)\n",
    "df_samples_eval_atg.shape"
   ]
  },
  {
   "cell_type": "code",
   "execution_count": 9,
   "metadata": {},
   "outputs": [
    {
     "data": {
      "text/plain": [
       "{'TP': 758,\n",
       " 'FP': 56,\n",
       " 'FN': 123,\n",
       " 'TN': 18366,\n",
       " 'F1_score': 0.8943952802359882,\n",
       " 'Precision': 0.9312039312039312,\n",
       " 'Recall': 0.8603859250851306,\n",
       " 'Specificity': 0.996960156334817,\n",
       " 'Accuracy': 0.9907268300264208,\n",
       " 'AUPR': 0.9241757591638514,\n",
       " 'AUROC': 0.9864470145070341}"
      ]
     },
     "execution_count": 9,
     "metadata": {},
     "output_type": "execute_result"
    }
   ],
   "source": [
    "metrics = {}\n",
    "libcirctis.calc_metrics_labels(metrics, df_samples_eval_atg['sample_label'], df_samples_eval_atg['circTIS_label'])\n",
    "libcirctis.calc_metrics_scores(metrics, df_samples_eval_atg['sample_label'], df_samples_eval_atg['circTIS_score'])\n",
    "metrics"
   ]
  },
  {
   "cell_type": "code",
   "execution_count": 10,
   "metadata": {},
   "outputs": [
    {
     "data": {
      "text/plain": [
       "(52880, 6)"
      ]
     },
     "execution_count": 10,
     "metadata": {},
     "output_type": "execute_result"
    }
   ],
   "source": [
    "df_samples_eval_nc = df_samples_eval[df_samples_eval['TIS_type'] != 'ATG']\n",
    "df_samples_eval_nc.to_csv(output_samples_eval_file_nc, sep='\\t', index=False)\n",
    "df_samples_eval_nc.shape"
   ]
  },
  {
   "cell_type": "code",
   "execution_count": 11,
   "metadata": {},
   "outputs": [
    {
     "data": {
      "text/plain": [
       "{'TP': 65,\n",
       " 'FP': 3,\n",
       " 'FN': 33,\n",
       " 'TN': 52779,\n",
       " 'F1_score': 0.783132530120482,\n",
       " 'Precision': 0.9558823529411765,\n",
       " 'Recall': 0.6632653061224489,\n",
       " 'Specificity': 0.9999431624417415,\n",
       " 'Accuracy': 0.9993192133131619,\n",
       " 'AUPR': 0.7422279105454682,\n",
       " 'AUROC': 0.9683745386298205}"
      ]
     },
     "execution_count": 11,
     "metadata": {},
     "output_type": "execute_result"
    }
   ],
   "source": [
    "metrics = {}\n",
    "libcirctis.calc_metrics_labels(metrics, df_samples_eval_nc['sample_label'], df_samples_eval_nc['circTIS_label'])\n",
    "libcirctis.calc_metrics_scores(metrics, df_samples_eval_nc['sample_label'], df_samples_eval_nc['circTIS_score'])\n",
    "metrics"
   ]
  }
 ],
 "metadata": {
  "kernelspec": {
   "display_name": "circtis_dev",
   "language": "python",
   "name": "python3"
  },
  "language_info": {
   "codemirror_mode": {
    "name": "ipython",
    "version": 3
   },
   "file_extension": ".py",
   "mimetype": "text/x-python",
   "name": "python",
   "nbconvert_exporter": "python",
   "pygments_lexer": "ipython3",
   "version": "3.6.15"
  },
  "orig_nbformat": 4
 },
 "nbformat": 4,
 "nbformat_minor": 2
}
